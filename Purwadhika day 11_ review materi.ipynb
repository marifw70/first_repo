{
 "cells": [
  {
   "cell_type": "markdown",
   "metadata": {},
   "source": [
    "## REVIEW MATERI PYTHON FUNDAMENTAL\n",
    "### DATA TYPE :\n",
    "#### 1. int =  1,2,3,4,...\n",
    "#### 2. string = \"halo\", \"arif\"\n",
    "#### 3. float = 1.3, 2.1,..\n",
    "#### 4. Boolean = True False\n",
    "#### 5. List : [' Andi', 20.5, True]\n",
    "#### 6. Dictionary : {'nama':  'Andi', 'umur': 45, 'pendidikan': ['ekonomi','matematika']}. nama, umur, atau pendidikan adalah keys, sedangkan andi, 45 atau list(ekonomi, matematika) adalah parameter\n",
    "\n",
    "### TOOL PYTHON:\n",
    "#### 1. If else:\n",
    "#### 2. looping (for loop & while loop)\n",
    "#### 3. Function: untuk menyimpan code dan bisa dipakai beberapa kali\n",
    "\n"
   ]
  },
  {
   "cell_type": "markdown",
   "metadata": {},
   "source": [
    "### ================================================================================\n",
    "## LATIHAN PYTHON FUNDAMENTAL\n",
    "### TAKE CLASS & TAKE HOME\n",
    "\n",
    "#### SOAL 1 \n",
    "#### Buat function seperti count yang bisa menghitung jumlah suatu huruf atau karakter dalam string! => TIDAK PAKAI COUNT\n",
    "#### teks = 'Saya belajar Data Science di Purwadhika'\n",
    "#### hitung_huruf(teks, 'a') -> 8 (ada 8 huruf a dalam variabel teks)\n",
    "\n",
    "#### SOAL 2\n",
    "#### Buat function untuk menghitung jumlah KATA (bukan karakter) dalam string!\n",
    "#### teks = 'Saya belajar Data Science di Purwadhika'\n",
    "#### hitung_kata(teks) --> 6 (ada 6 kata dalam variabel teks)\n",
    "\n",
    "#### SOAL 3\n",
    "#### Buat function untuk membalikkan urutan KATA dalam string! => TIDAK BOLEH PAKAI SWAPCASE\n",
    "#### teks = 'Saya belajar Data Science di Purwadhika'\n",
    "#### balik(teks) ---> 'Purwadhika di Science Data Belajar'\n",
    "\n",
    "#### SOAL 4\n",
    "#### Buat function untuk menduplikasi split() = Memisahkan string berdasarkan karakter tertentu dan disimpan dalam list\n",
    "#### teks = \"Halo. Selamat Pagi\"\n",
    "#### pisah(teks, '.') ---> ['Halo', 'Selamat Pagi']\n",
    "#### pisah(teks, 'P') ---> ['Halo. Selamat', 'agi']\n",
    "### ================================================================================\n"
   ]
  },
  {
   "cell_type": "code",
   "execution_count": 8,
   "metadata": {},
   "outputs": [
    {
     "name": "stdout",
     "output_type": "stream",
     "text": [
      "2\n"
     ]
    }
   ],
   "source": [
    "def hitung_huruf(teks,huruf): \n",
    "    a = 0\n",
    "    for i in list(teks):\n",
    "        if huruf == i :\n",
    "            a +=1\n",
    "    return a\n",
    "teks = 'halolo'\n",
    "print (hitung_huruf(teks,'o'))"
   ]
  },
  {
   "cell_type": "code",
   "execution_count": 7,
   "metadata": {},
   "outputs": [
    {
     "name": "stdout",
     "output_type": "stream",
     "text": [
      "3\n"
     ]
    }
   ],
   "source": [
    "def hitung_huruf(teks,char): # membuat function dengan nama hitung_huruf dengan parameter char\n",
    "    j = 0 # \n",
    "    for i in list(teks):\n",
    "        if char == i :\n",
    "            j+=1 #fungsi untuk setiap char yang = dengan nilai i, maka value jnya akan bertambah\n",
    "    return j\n",
    "teks = 'Saya belajar Data Science di Purwadhika'\n",
    "print(hitung_huruf(teks,'e'))\n",
    "# a = 'halo bandung'\n",
    "# print (len(a))"
   ]
  },
  {
   "cell_type": "code",
   "execution_count": 9,
   "metadata": {},
   "outputs": [
    {
     "name": "stdout",
     "output_type": "stream",
     "text": [
      "['Saya', 'belajar', 'Data', 'Science', 'di', 'Purwadhika']\n",
      "6\n"
     ]
    }
   ],
   "source": [
    "# def hitung_kata(teks)\n",
    "def hitung_kata(teks):\n",
    "    pisah = teks.split() #parameter nya displit  menjadi list\n",
    "    print(pisah) \n",
    "    hitung = len(pisah) #setelah itu jumlah listnya dihitung\n",
    "    return hitung \n",
    "teks = 'Saya belajar Data Science di Purwadhika' #input stringnya\n",
    "print(hitung_kata(teks)) #cetak hasil dari function hitung_kata\n",
    "    \n",
    "    "
   ]
  },
  {
   "cell_type": "code",
   "execution_count": 4,
   "metadata": {},
   "outputs": [
    {
     "data": {
      "text/plain": [
       "3"
      ]
     },
     "execution_count": 4,
     "metadata": {},
     "output_type": "execute_result"
    }
   ],
   "source": [
    "def hitung(teks):\n",
    "    return len(teks.split())\n",
    "hitung('Saya sedang belajar')"
   ]
  },
  {
   "cell_type": "code",
   "execution_count": 3,
   "metadata": {},
   "outputs": [
    {
     "name": "stdout",
     "output_type": "stream",
     "text": [
      "3\n"
     ]
    }
   ],
   "source": [
    "def hitung_kata(teks):\n",
    "    jumlah = 1\n",
    "    for i in teks:\n",
    "        if i == \" \":\n",
    "            jumlah += 1\n",
    "    return jumlah\n",
    "print(hitung_kata(\"hayo lo ah\"))"
   ]
  },
  {
   "cell_type": "code",
   "execution_count": 17,
   "metadata": {},
   "outputs": [
    {
     "data": {
      "text/plain": [
       "'Belajar Data Science di Purwadhika'"
      ]
     },
     "execution_count": 17,
     "metadata": {},
     "output_type": "execute_result"
    }
   ],
   "source": [
    "def balik(teks): # membuat fungsi dengan nama balik yang parameternya adalah text\n",
    "    split_teks = [] # lalu membuat variable list yang nilainya masi kosong \n",
    "    kata_baru = '' # lalu membuat variable string yang masi kosong\n",
    "    for huruf in teks: # lalu membuat looping terhadap teks dengan huruf \n",
    "        if huruf == ' ': # jika huruf nilainya adalah ' ', maka huruf tersebut akan masuka ke temporer list baru \n",
    "            split_teks.append(kata_baru)\n",
    "            kata_baru = ''\n",
    "        else: # jika kata bukan ' ', maka huruf selanjutnya tetap akan di susun di list yang lama\n",
    "            kata_baru += huruf\n",
    "    if kata_baru: \n",
    "        split_teks.append(kata_baru)\n",
    "    kebalik= reversed(split_teks)\n",
    "    balikin =' '.join(kebalik)\n",
    "    return balikin\n",
    "balik('Purwadhika di Science Data Belajar')"
   ]
  },
  {
   "cell_type": "code",
   "execution_count": 5,
   "metadata": {},
   "outputs": [
    {
     "data": {
      "text/plain": [
       "'Belajar Data Science di Purwadhika'"
      ]
     },
     "execution_count": 5,
     "metadata": {},
     "output_type": "execute_result"
    }
   ],
   "source": [
    "def kilab(teks):\n",
    "    pisah = teks.split()  # string di pisah dan di ubah menjadi list\n",
    "    balikin = reversed(pisah) # list tersebut kemudian dibalik\n",
    "    gabung = ' '.join(balikin) # setelah urutannya dibalik , list tersebut di gabung lagi menjadi string\n",
    "    return gabung\n",
    "kilab('Purwadhika di Science Data Belajar')"
   ]
  },
  {
   "cell_type": "code",
   "execution_count": 26,
   "metadata": {},
   "outputs": [
    {
     "name": "stdout",
     "output_type": "stream",
     "text": [
      "['Ha', 'o. Se', 'amat Pagi Sayang']\n",
      "['Halo.', 'Selamat', 'Pagi', 'Sayang']\n"
     ]
    }
   ],
   "source": [
    "def pisah(teks,huruf = ' '): # membuat fungsi dengan nama pisah yang parameternya adalah text, dan huruf\n",
    "    words = [] # membuat list kosong dengan nama words \n",
    "    kalimat = '' # membuat string kosong dengan nama kalimat\n",
    "    for i in teks: # lalu membuat looping terhadap teks dengan huruf \n",
    "        if i == huruf: # jika i nilainya adalah huruf yang kita input, maka huruf tersebut akan diganti menjadi ''  \n",
    "            words.append(kalimat) #\n",
    "            kalimat = ''\n",
    "        else: # jika i nilainya bukan huruf yang kita input, maka huruf selanjutnya tetap akan di susun di list yang kita buat\n",
    "            kalimat += i\n",
    "    words.append(kalimat) # lalu string tersebut digabung \n",
    "    return words\n",
    "print(pisah('Halo. Selamat Pagi Sayang','l'))\n",
    "print(pisah('Halo. Selamat Pagi Sayang'))\n"
   ]
  },
  {
   "cell_type": "code",
   "execution_count": null,
   "metadata": {},
   "outputs": [],
   "source": []
  }
 ],
 "metadata": {
  "kernelspec": {
   "display_name": "Python 3",
   "language": "python",
   "name": "python3"
  },
  "language_info": {
   "codemirror_mode": {
    "name": "ipython",
    "version": 3
   },
   "file_extension": ".py",
   "mimetype": "text/x-python",
   "name": "python",
   "nbconvert_exporter": "python",
   "pygments_lexer": "ipython3",
   "version": "3.7.6"
  }
 },
 "nbformat": 4,
 "nbformat_minor": 4
}
